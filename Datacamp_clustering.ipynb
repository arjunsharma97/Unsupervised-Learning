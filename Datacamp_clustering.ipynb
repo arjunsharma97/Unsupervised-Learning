{
 "cells": [
  {
   "cell_type": "markdown",
   "metadata": {},
   "source": [
    "# Chapter 1"
   ]
  },
  {
   "cell_type": "code",
   "execution_count": 1,
   "metadata": {
    "collapsed": true
   },
   "outputs": [],
   "source": [
    "from sklearn.cluster import KMeans"
   ]
  },
  {
   "cell_type": "code",
   "execution_count": 2,
   "metadata": {
    "collapsed": true
   },
   "outputs": [],
   "source": [
    "model = KMeans(n_clusters=3)"
   ]
  },
  {
   "cell_type": "code",
   "execution_count": 1,
   "metadata": {},
   "outputs": [],
   "source": [
    "from sklearn import datasets\n",
    "import numpy as np\n",
    "import pandas as pd\n",
    "iris=datasets.load_iris()\n",
    "X=iris.data\n",
    "y=iris.target\n",
    "df=pd.DataFrame(X, columns=iris.feature_names)"
   ]
  },
  {
   "cell_type": "code",
   "execution_count": 4,
   "metadata": {},
   "outputs": [],
   "source": [
    "labels=model.fit_predict(X)"
   ]
  },
  {
   "cell_type": "code",
   "execution_count": 7,
   "metadata": {
    "collapsed": true
   },
   "outputs": [],
   "source": [
    "df = pd.DataFrame({'labels': labels, 'actual': y})"
   ]
  },
  {
   "cell_type": "code",
   "execution_count": 8,
   "metadata": {},
   "outputs": [
    {
     "data": {
      "text/html": [
       "<div>\n",
       "<table border=\"1\" class=\"dataframe\">\n",
       "  <thead>\n",
       "    <tr style=\"text-align: right;\">\n",
       "      <th></th>\n",
       "      <th>actual</th>\n",
       "      <th>labels</th>\n",
       "    </tr>\n",
       "  </thead>\n",
       "  <tbody>\n",
       "    <tr>\n",
       "      <th>0</th>\n",
       "      <td>0</td>\n",
       "      <td>1</td>\n",
       "    </tr>\n",
       "    <tr>\n",
       "      <th>1</th>\n",
       "      <td>0</td>\n",
       "      <td>1</td>\n",
       "    </tr>\n",
       "    <tr>\n",
       "      <th>2</th>\n",
       "      <td>0</td>\n",
       "      <td>1</td>\n",
       "    </tr>\n",
       "    <tr>\n",
       "      <th>3</th>\n",
       "      <td>0</td>\n",
       "      <td>1</td>\n",
       "    </tr>\n",
       "    <tr>\n",
       "      <th>4</th>\n",
       "      <td>0</td>\n",
       "      <td>1</td>\n",
       "    </tr>\n",
       "  </tbody>\n",
       "</table>\n",
       "</div>"
      ],
      "text/plain": [
       "   actual  labels\n",
       "0       0       1\n",
       "1       0       1\n",
       "2       0       1\n",
       "3       0       1\n",
       "4       0       1"
      ]
     },
     "execution_count": 8,
     "metadata": {},
     "output_type": "execute_result"
    }
   ],
   "source": [
    "df.head()"
   ]
  },
  {
   "cell_type": "markdown",
   "metadata": {},
   "source": [
    "____\n",
    "#### We use pandas crosstab method in order to evaluate our clustering.\n",
    "model.inertia_ metric is minimized, but at the same time no. of clusters shouldn't be too large. Hence, elbows are looked for.\n",
    "____"
   ]
  },
  {
   "cell_type": "code",
   "execution_count": 9,
   "metadata": {
    "collapsed": true
   },
   "outputs": [],
   "source": [
    "ct = pd.crosstab(df['labels'],df['actual'])"
   ]
  },
  {
   "cell_type": "code",
   "execution_count": 10,
   "metadata": {},
   "outputs": [
    {
     "name": "stdout",
     "output_type": "stream",
     "text": [
      "actual   0   1   2\n",
      "labels            \n",
      "0        0  48  14\n",
      "1       50   0   0\n",
      "2        0   2  36\n"
     ]
    }
   ],
   "source": [
    "print(ct)"
   ]
  },
  {
   "cell_type": "code",
   "execution_count": 11,
   "metadata": {
    "collapsed": true
   },
   "outputs": [],
   "source": [
    "import matplotlib.pyplot as plt"
   ]
  },
  {
   "cell_type": "code",
   "execution_count": 12,
   "metadata": {},
   "outputs": [
    {
     "data": {
      "image/png": "[encoded data removed]",
      "text/plain": [
       "<matplotlib.figure.Figure at 0x7faabaf302b0>"
      ]
     },
     "metadata": {},
     "output_type": "display_data"
    }
   ],
   "source": [
    "ks = range(1, 6)\n",
    "inertias = []\n",
    "\n",
    "for k in ks:\n",
    "    # Create a KMeans instance with k clusters: model\n",
    "    model = KMeans(n_clusters=k)\n",
    "    \n",
    "    # Fit model to samples\n",
    "    model.fit(X)\n",
    "    \n",
    "    # Append the inertia to the list of inertias\n",
    "    inertias.append(model.inertia_)\n",
    "    \n",
    "# Plot ks vs inertias\n",
    "plt.plot(ks, inertias, '-o')\n",
    "plt.xlabel('number of clusters, k')\n",
    "plt.ylabel('inertia')\n",
    "plt.xticks(ks)\n",
    "plt.show()"
   ]
  },
  {
   "cell_type": "markdown",
   "metadata": {},
   "source": [
    "**Here, no. of clusters to be taken should be either 2 or 3, since both represent elbows**"
   ]
  },
  {
   "cell_type": "markdown",
   "metadata": {},
   "source": [
    "____\n",
    "____\n",
    "In order to improve our clustering, we use **StandardScaler** so as to make each feature have *mean* 0 and *variance* 1, as a high feature variance increases its influence on the clustering.\n",
    "\n",
    "____"
   ]
  },
  {
   "cell_type": "code",
   "execution_count": 13,
   "metadata": {
    "collapsed": true
   },
   "outputs": [],
   "source": [
    "# Perform the necessary imports\n",
    "from sklearn.pipeline import make_pipeline\n",
    "from sklearn.preprocessing import StandardScaler\n",
    "\n",
    "# Create scaler: scaler\n",
    "scaler = StandardScaler()\n",
    "\n",
    "# Create KMeans instance: kmeans\n",
    "kmeans = KMeans(n_clusters=3)\n",
    "\n",
    "# Create pipeline: pipeline\n",
    "pipeline = make_pipeline(scaler,kmeans)\n"
   ]
  },
  {
   "cell_type": "code",
   "execution_count": 14,
   "metadata": {},
   "outputs": [
    {
     "name": "stdout",
     "output_type": "stream",
     "text": [
      "species   0   1   2\n",
      "labels             \n",
      "0        50   0   0\n",
      "1         0  39  17\n",
      "2         0  11  33\n"
     ]
    }
   ],
   "source": [
    "# Fit the pipeline to samples\n",
    "pipeline.fit(X)\n",
    "\n",
    "# Calculate the cluster labels: labels\n",
    "labels = pipeline.predict(X)\n",
    "\n",
    "# Create a DataFrame with labels and species as columns: df\n",
    "df = pd.DataFrame({'labels':labels,'species':y})\n",
    "\n",
    "# Create crosstab: ct\n",
    "ct = pd.crosstab(df['labels'],df['species'])\n",
    "\n",
    "# Display ct\n",
    "print(ct)"
   ]
  },
  {
   "cell_type": "markdown",
   "metadata": {},
   "source": [
    "____\n",
    "If no improvement is observed, other preprocessing techniques such as **MaxAbsScaler** and **Normalizer** can also be tried.\n",
    "____"
   ]
  },
  {
   "cell_type": "code",
   "execution_count": 16,
   "metadata": {},
   "outputs": [
    {
     "data": {
      "text/plain": [
       "Pipeline(steps=[('normalizer', Normalizer(copy=True, norm='l2')), ('kmeans', KMeans(algorithm='auto', copy_x=True, init='k-means++', max_iter=300,\n",
       "    n_clusters=3, n_init=10, n_jobs=1, precompute_distances='auto',\n",
       "    random_state=None, tol=0.0001, verbose=0))])"
      ]
     },
     "execution_count": 16,
     "metadata": {},
     "output_type": "execute_result"
    }
   ],
   "source": [
    "# Import Normalize\n",
    "from sklearn.preprocessing import Normalizer\n",
    "\n",
    "# Create a normalizer: normalizer\n",
    "normalizer = Normalizer()\n",
    "\n",
    "pipeline = make_pipeline(normalizer,kmeans)\n",
    "\n",
    "# Fit pipeline to the daily price movements\n",
    "pipeline.fit(X)\n"
   ]
  },
  {
   "cell_type": "code",
   "execution_count": 17,
   "metadata": {
    "collapsed": true
   },
   "outputs": [],
   "source": [
    "# Import pandas\n",
    "import pandas as pd\n",
    "\n",
    "# Predict the cluster labels: labels\n",
    "labels = pipeline.predict(X)\n",
    "\n",
    "## Create a DataFrame aligning labels and companies: df\n",
    "#df = pd.DataFrame({'labels': labels, 'companies': companies})\n",
    "\n",
    "## Display df sorted by cluster label\n",
    "#print(df.sort_values('labels'))"
   ]
  },
  {
   "cell_type": "code",
   "execution_count": 18,
   "metadata": {},
   "outputs": [
    {
     "name": "stdout",
     "output_type": "stream",
     "text": [
      "species   0   1   2\n",
      "labels             \n",
      "0         0   5  50\n",
      "1        50   0   0\n",
      "2         0  45   0\n"
     ]
    }
   ],
   "source": [
    "df = pd.DataFrame({'labels':labels,'species':y})\n",
    "\n",
    "# Create crosstab: ct\n",
    "ct = pd.crosstab(df['labels'],df['species'])\n",
    "\n",
    "# Display ct\n",
    "print(ct)"
   ]
  },
  {
   "cell_type": "markdown",
   "metadata": {},
   "source": [
    "___\n",
    "___\n",
    "\n",
    "\n",
    "# Chapter 2\n",
    "\n",
    "___\n",
    "___"
   ]
  },
  {
   "cell_type": "markdown",
   "metadata": {
    "collapsed": true
   },
   "source": [
    "**Hierarchical Clustering** can be performed in order to gain insights about the data via visualization. The visualization is achieved via dendrograms. Initially, each sample is a cluster itself. At each step, the two closest clusters are merged, finally leaving only one cluster.\n",
    "\n",
    "____"
   ]
  },
  {
   "cell_type": "code",
   "execution_count": 6,
   "metadata": {},
   "outputs": [
    {
     "data": {
      "image/png": "[encoded data removed]",
      "text/plain": [
       "<matplotlib.figure.Figure at 0x7fa39a98f240>"
      ]
     },
     "metadata": {},
     "output_type": "display_data"
    }
   ],
   "source": [
    "# Perform the necessary imports\n",
    "from scipy.cluster.hierarchy import dendrogram, linkage\n",
    "import matplotlib.pyplot as plt\n",
    "\n",
    "# Calculate the linkage: mergings\n",
    "mergings = linkage(X, method='complete')\n",
    "\n",
    "# Plot the dendrogram, using varieties as labels\n",
    "dendrogram(mergings,\n",
    "           labels=y,\n",
    "           leaf_rotation=90,\n",
    "           leaf_font_size=6,\n",
    ")\n",
    "plt.show()\n"
   ]
  },
  {
   "cell_type": "code",
   "execution_count": 8,
   "metadata": {},
   "outputs": [
    {
     "data": {
      "image/png": "[encoded data removed]",
      "text/plain": [
       "<matplotlib.figure.Figure at 0x7fa39a71b6d8>"
      ]
     },
     "metadata": {},
     "output_type": "display_data"
    }
   ],
   "source": [
    "# Import normalize\n",
    "from sklearn.preprocessing import normalize\n",
    "\n",
    "# Normalize the movements: normalized_movements\n",
    "normalized_movements = normalize(X)\n",
    "\n",
    "# Calculate the linkage: mergings\n",
    "mergings = linkage(normalized_movements, method='complete')\n",
    "\n",
    "# Plot the dendrogram\n",
    "dendrogram(mergings, labels=y, leaf_rotation=90, leaf_font_size=6)\n",
    "plt.show()\n"
   ]
  },
  {
   "cell_type": "markdown",
   "metadata": {},
   "source": [
    "___\n",
    "\n",
    "In heirarchical clustering, cluster labels at intermediate levels can be recovered and used for tasks such as cross tabulation. In order to that, the height needs to be mentioned.\n",
    "\n",
    "* Height on dendogram - Distance between merging clusters\n",
    "* Distance between clusters specified by **linkage** method\n",
    "    * Specified by *method* parameter, e.g. linkage(samples, **method = 'complete'**)\n",
    "    * complete - distance between clusters is max distance between samples    \n",
    "    \n",
    "    \n",
    "* Intermediate cluster labels are extracted using **fcluster** method.\n",
    "____\n"
   ]
  },
  {
   "cell_type": "code",
   "execution_count": 9,
   "metadata": {},
   "outputs": [
    {
     "data": {
      "image/png": "[encoded data removed]",
      "text/plain": [
       "<matplotlib.figure.Figure at 0x7fa39a4e6ac8>"
      ]
     },
     "metadata": {},
     "output_type": "display_data"
    }
   ],
   "source": [
    "# performing single linkage hierarchical clustering produces a different dendrogram!\n",
    "\n",
    "import matplotlib.pyplot as plt\n",
    "from scipy.cluster.hierarchy import linkage, dendrogram\n",
    "\n",
    "# Calculate the linkage: mergings\n",
    "mergings = linkage(X, method='single')\n",
    "\n",
    "# Plot the dendrogram\n",
    "dendrogram(mergings, labels=y, leaf_rotation=90, leaf_font_size=6)\n",
    "plt.show()"
   ]
  },
  {
   "cell_type": "code",
   "execution_count": 10,
   "metadata": {},
   "outputs": [
    {
     "name": "stdout",
     "output_type": "stream",
     "text": [
      "varieties   0   1   2\n",
      "labels               \n",
      "1          50  50  50\n"
     ]
    }
   ],
   "source": [
    "#Extracting the cluster labels\n",
    "\n",
    "# Perform the necessary imports\n",
    "import pandas as pd\n",
    "from scipy.cluster.hierarchy import fcluster\n",
    "\n",
    "# Use fcluster to extract labels: labels\n",
    "labels = fcluster(mergings, 6, criterion='distance')\n",
    "\n",
    "# Create a DataFrame with labels and varieties as columns: df\n",
    "df = pd.DataFrame({'labels': labels, 'varieties': y})\n",
    "\n",
    "# Create crosstab: ct\n",
    "ct = pd.crosstab(df['labels'],df['varieties'])\n",
    "\n",
    "# Display ct\n",
    "print(ct)"
   ]
  },
  {
   "cell_type": "markdown",
   "metadata": {},
   "source": [
    "\n",
    "____\n",
    "\n",
    "### t-SNE for 2 dimensional maps\n",
    "\n",
    "* t-SNE = \"t-distributed stochastic neighbor embedding\"\n",
    "* Maps samples from higher dimensional space to 2D or 3D space, preserves nearness of samples\n",
    "\n",
    "#### t-SNE on iris\n",
    "\n",
    "* 4 dimensions, maps to 2D space\n",
    "* Graph reveals 2 clusters are closer to each other, hence total no. of clusters can be 2. This was also represented by the inertia plot.\n",
    "* Has 2 important components: only a fit_transform() method and no individual fit and transform, and a learning rate which has to be chosen according to the dataset; try values between 50-200\n",
    "* t-SNE features are different every time it is called.\n",
    "\n",
    "___"
   ]
  },
  {
   "cell_type": "code",
   "execution_count": 13,
   "metadata": {
    "scrolled": true
   },
   "outputs": [
    {
     "data": {
      "image/png": "[encoded data removed]",
      "text/plain": [
       "<matplotlib.figure.Figure at 0x7fa3a8a49cc0>"
      ]
     },
     "metadata": {},
     "output_type": "display_data"
    }
   ],
   "source": [
    "# Import TSNE\n",
    "from sklearn.manifold import TSNE\n",
    "\n",
    "# Create a TSNE instance: model\n",
    "model = TSNE(learning_rate=200)\n",
    "\n",
    "# Apply fit_transform to samples: tsne_features\n",
    "tsne_features = model.fit_transform(X)\n",
    "\n",
    "# Select the 0th feature: xs\n",
    "xs = tsne_features[:,0]\n",
    "\n",
    "# Select the 1st feature: ys\n",
    "ys = tsne_features[:,1]\n",
    "\n",
    "# Scatter plot, coloring by variety_numbers\n",
    "plt.scatter(xs,ys,c=y)\n",
    "plt.show()\n"
   ]
  },
  {
   "cell_type": "markdown",
   "metadata": {
    "collapsed": true
   },
   "source": [
    "____\n",
    "____\n",
    "\n",
    "# Chapter 3\n",
    "____\n",
    "____"
   ]
  },
  {
   "cell_type": "markdown",
   "metadata": {},
   "source": [
    "## Dimension Reduction "
   ]
  },
  {
   "cell_type": "markdown",
   "metadata": {},
   "source": [
    "* Finds patterns in data and uses them to rexpress it in compressed form\n",
    "* Makes storage and computation efficient\n",
    "* Most important function is to remove \"noisy\" features that cause problems in supervised learning tasks"
   ]
  },
  {
   "cell_type": "markdown",
   "metadata": {},
   "source": [
    "### Principal Component Analysis"
   ]
  },
  {
   "cell_type": "markdown",
   "metadata": {},
   "source": [
    "First step - decorrelation  \n",
    "Second step - reduces dimensions"
   ]
  },
  {
   "cell_type": "markdown",
   "metadata": {},
   "source": [
    "First Step -  \n",
    "\n",
    "* Rotates data samples to be aligned with coordinate axes\n",
    "* Shifts data samples so they have mean 0.\n",
    "* No information is lost in this step\n",
    "* PCA has a scikit-learn component just like KMeans or StandardScaler\n",
    "* *fit()* learns how to shift and rotate the samples, but doesn't actually change them\n",
    "* *transform()* applies the learned information; can be applied to new data\n",
    "\n",
    "____\n",
    "* Features of some raw dataset are often correlated; not the case with PCA features\n",
    "* PCA performs rotations that decorrelate the data\n",
    "\n",
    "#### Linear correlation cam be measured using Pearson correlation\n",
    "\n",
    "* Values between -1 and 1; larger values correspond to stronger correlation\n",
    "* 0 means no correlation\n",
    "* PCA identifies the \"principal components\", i.e., the directions of variance.\n",
    "* PCA aligns principal components with the axes.\n",
    "\n",
    "\n",
    "* Principal components are available as **components\\_** attribute of PCA object"
   ]
  },
  {
   "cell_type": "code",
   "execution_count": 4,
   "metadata": {},
   "outputs": [
    {
     "data": {
      "image/png": "[encoded data removed]",
      "text/plain": [
       "<matplotlib.figure.Figure at 0x7f0efea24438>"
      ]
     },
     "metadata": {},
     "output_type": "display_data"
    },
    {
     "name": "stdout",
     "output_type": "stream",
     "text": [
      "0.962757097051 5.7766609885e-86\n"
     ]
    }
   ],
   "source": [
    "# Correlated data in nature\n",
    "# Perform the necessary imports\n",
    "import matplotlib.pyplot as plt\n",
    "from scipy.stats import pearsonr\n",
    "\n",
    "# Assign the 0th column of grains: width\n",
    "width = X[:,2]\n",
    "\n",
    "# Assign the 1st column of grains: length\n",
    "length = X[:,3]\n",
    "\n",
    "# Scatter plot width vs length\n",
    "plt.scatter(width, length)\n",
    "plt.axis('equal')\n",
    "plt.show()\n",
    "\n",
    "# Calculate the Pearson correlation\n",
    "correlation, pvalue = pearsonr(width,length)\n",
    "print(correlation,pvalue)"
   ]
  },
  {
   "cell_type": "code",
   "execution_count": 6,
   "metadata": {},
   "outputs": [
    {
     "data": {
      "image/png": "[encoded data removed]",
      "text/plain": [
       "<matplotlib.figure.Figure at 0x7f0efb7ae860>"
      ]
     },
     "metadata": {},
     "output_type": "display_data"
    },
    {
     "name": "stdout",
     "output_type": "stream",
     "text": [
      "8.18673655351e-18\n"
     ]
    }
   ],
   "source": [
    "# Decorrelating the grain measurements with PCA\n",
    "# Import PCA\n",
    "from sklearn.decomposition import PCA\n",
    "\n",
    "# Create PCA instance: model\n",
    "model = PCA()\n",
    "\n",
    "# Apply the fit_transform method of model to grains: pca_features\n",
    "pca_features = model.fit_transform(X[:,[2,3]])\n",
    "\n",
    "# Assign 0th column of pca_features: xs\n",
    "xs = pca_features[:,0]\n",
    "\n",
    "# Assign 1st column of pca_features: ys\n",
    "ys = pca_features[:,1]\n",
    "\n",
    "# Scatter plot xs vs ys\n",
    "plt.scatter(xs, ys)\n",
    "plt.axis('equal')\n",
    "plt.show()\n",
    "\n",
    "# Calculate the Pearson correlation of xs and ys\n",
    "correlation, pvalue = pearsonr(xs, ys)\n",
    "\n",
    "# Display the correlation\n",
    "print(correlation)"
   ]
  },
  {
   "cell_type": "markdown",
   "metadata": {},
   "source": [
    "____\n",
    "\n",
    "## Intrinsic Dimension"
   ]
  },
  {
   "cell_type": "markdown",
   "metadata": {},
   "source": [
    "* **No. of features reqd to approximate the dataset**\n",
    "* Tells how much data can be compressed\n",
    "* Intrinsic dimension = No. of PCA features with significant variance"
   ]
  },
  {
   "cell_type": "code",
   "execution_count": 7,
   "metadata": {},
   "outputs": [
    {
     "data": {
      "image/png": "[encoded data removed]",
      "text/plain": [
       "<matplotlib.figure.Figure at 0x7f0efea0e3c8>"
      ]
     },
     "metadata": {},
     "output_type": "display_data"
    }
   ],
   "source": [
    "# The first principal component\n",
    "# Make a scatter plot of the untransformed points\n",
    "plt.scatter(X[:,2], X[:,3])\n",
    "\n",
    "# Create a PCA instance: model\n",
    "model = PCA()\n",
    "\n",
    "# Fit model to points\n",
    "model.fit(X[:,[2,3]])\n",
    "\n",
    "# Get the mean of the grain samples: mean\n",
    "mean = model.mean_\n",
    "\n",
    "# Get the first principal component: first_pc\n",
    "first_pc = model.components_[0,:]\n",
    "\n",
    "# Plot first_pc as an arrow, starting at mean\n",
    "plt.arrow(mean[0], mean[1], first_pc[0], first_pc[1], color='red', width=0.01)\n",
    "\n",
    "# Keep axes on same scale\n",
    "plt.axis('equal')\n",
    "plt.show()"
   ]
  },
  {
   "cell_type": "code",
   "execution_count": 8,
   "metadata": {},
   "outputs": [
    {
     "data": {
      "image/png": "[encoded data removed]",
      "text/plain": [
       "<matplotlib.figure.Figure at 0x7f0efeafbcf8>"
      ]
     },
     "metadata": {},
     "output_type": "display_data"
    }
   ],
   "source": [
    "# Variance of the PCA features\n",
    "# Perform the necessary imports\n",
    "from sklearn.decomposition import PCA\n",
    "from sklearn.preprocessing import StandardScaler\n",
    "from sklearn.pipeline import make_pipeline\n",
    "import matplotlib.pyplot as plt\n",
    "\n",
    "# Create scaler: scaler\n",
    "scaler = StandardScaler()\n",
    "\n",
    "# Create a PCA instance: pca\n",
    "pca = PCA()\n",
    "\n",
    "# Create pipeline: pipeline\n",
    "pipeline = make_pipeline(scaler,pca)\n",
    "\n",
    "# Fit the pipeline to 'samples'\n",
    "pipeline.fit(X)\n",
    "\n",
    "# Plot the explained variances\n",
    "features = range(pca.n_components_)\n",
    "plt.bar(features, pca.explained_variance_)\n",
    "plt.xlabel('PCA feature')\n",
    "plt.ylabel('variance')\n",
    "plt.xticks(features)\n",
    "plt.show()"
   ]
  },
  {
   "cell_type": "markdown",
   "metadata": {},
   "source": [
    "____\n",
    "\n",
    "## Dimension reduction with PCA\n",
    "\n",
    "* Represents same data using less features, important part of machine learning pipeline.\n",
    "* PCA features are in decreasing order of variance\n",
    "* Need to specify how many features to keep using **n_features** argument: Intrinsic dimension is a good choice.\n",
    "* PCA assumes high variance features are important, which is mostly true.\n",
    "* We use TruncatedSVD instead of PCA for sparse matrices"
   ]
  },
  {
   "cell_type": "code",
   "execution_count": 9,
   "metadata": {},
   "outputs": [
    {
     "name": "stdout",
     "output_type": "stream",
     "text": [
      "(150, 2)\n"
     ]
    }
   ],
   "source": [
    "# Dimension reduction of the fish measurements\n",
    "# Import PCA\n",
    "from sklearn.decomposition import PCA\n",
    "\n",
    "# Create a PCA model with 2 components: pca\n",
    "pca = PCA(n_components=2)\n",
    "\n",
    "# Fit the PCA instance to the scaled samples\n",
    "pca.fit(X)\n",
    "\n",
    "# Transform the scaled samples: pca_features\n",
    "pca_features = pca.transform(X)\n",
    "\n",
    "# Print the shape of pca_features\n",
    "print(pca_features.shape)\n"
   ]
  },
  {
   "cell_type": "code",
   "execution_count": null,
   "metadata": {
    "collapsed": true
   },
   "outputs": [],
   "source": [
    "# Import TfidfVectorizer\n",
    "from sklearn.feature_extraction.text import TfidfVectorizer\n",
    "\n",
    "# Create a TfidfVectorizer: tfidf\n",
    "tfidf = TfidfVectorizer()\n",
    "\n",
    "# Apply fit_transform to document: csr_mat\n",
    "csr_mat = tfidf.fit_transform(documents)\n",
    "\n",
    "# Print result of toarray() method\n",
    "print(csr_mat.toarray())\n",
    "\n",
    "# Get the words: words\n",
    "words = tfidf.get_feature_names()\n",
    "\n",
    "# Print words\n",
    "print(words)"
   ]
  },
  {
   "cell_type": "code",
   "execution_count": null,
   "metadata": {
    "collapsed": true
   },
   "outputs": [],
   "source": [
    "# Clustering Wikipedia\n",
    "\n",
    "# Perform the necessary imports\n",
    "from sklearn.decomposition import TruncatedSVD\n",
    "from sklearn.cluster import KMeans\n",
    "from sklearn.pipeline import make_pipeline\n",
    "\n",
    "# Create a TruncatedSVD instance: svd\n",
    "svd = TruncatedSVD(n_components=50)\n",
    "\n",
    "# Create a KMeans instance: kmeans\n",
    "kmeans = KMeans(n_clusters=6)\n",
    "\n",
    "# Create a pipeline: pipeline\n",
    "pipeline = make_pipeline(svd,kmeans)\n",
    "# Import pandas\n",
    "import pandas as pd\n",
    "\n",
    "# Fit the pipeline to articles\n",
    "pipeline.fit(articles)\n",
    "\n",
    "# Calculate the cluster labels: labels\n",
    "labels = pipeline.predict(articles)\n",
    "\n",
    "# Create a DataFrame aligning labels and titles: df\n",
    "df = pd.DataFrame({'label': labels, 'article': titles})\n",
    "\n",
    "# Display df sorted by cluster label\n",
    "print(df.sort_values('label'))"
   ]
  },
  {
   "cell_type": "markdown",
   "metadata": {},
   "source": [
    "____\n",
    "____\n",
    "\n",
    "# Chapter 4\n",
    "____\n",
    "____"
   ]
  },
  {
   "cell_type": "markdown",
   "metadata": {},
   "source": [
    "## Non-negative matrix factorization (NMF)\n",
    "\n",
    "\n",
    "* Dimesion reduction technique\n",
    "* In contrast to PCA, NMF models are interpretable\n",
    "* **All sample features must be non-negative**\n",
    "* Follows fit()/transform() pattern just like PCA\n",
    "* Necessary to specify *n_components*\n",
    "* Works with numpy arrays and csr_matrix\n",
    "* NMF has components just like principal components in PCA which it learns from the samples.\n",
    "* Dimension of components = Dimension of samples\n",
    "* Entries of NMF components are always non-negative\n",
    "* NMF feature values are also non-negative\n",
    "* Feature values can be combined with components to reconstruct the original samples\n",
    "    * Multiply components by feature values and add up: can also be expressed as product of matrices"
   ]
  },
  {
   "cell_type": "code",
   "execution_count": 10,
   "metadata": {},
   "outputs": [
    {
     "name": "stdout",
     "output_type": "stream",
     "text": [
      "[[ 0.10534643  1.32900316]\n",
      " [ 0.13521971  1.17474412]\n",
      " [ 0.10169058  1.21426258]\n",
      " [ 0.14176706  1.124735  ]\n",
      " [ 0.09732646  1.33658651]\n",
      " [ 0.15151672  1.37778596]\n",
      " [ 0.11237879  1.20927904]\n",
      " [ 0.12793372  1.26382737]\n",
      " [ 0.13447406  1.06743877]\n",
      " [ 0.13837186  1.18701479]\n",
      " [ 0.11410037  1.40291973]\n",
      " [ 0.14250103  1.20623492]\n",
      " [ 0.12598076  1.17054256]\n",
      " [ 0.0662085   1.16049624]\n",
      " [ 0.04779945  1.61506745]\n",
      " [ 0.08812599  1.59736891]\n",
      " [ 0.08155995  1.4751931 ]\n",
      " [ 0.11312444  1.31658439]\n",
      " [ 0.15468055  1.41586207]\n",
      " [ 0.11093654  1.36484363]\n",
      " [ 0.16875585  1.28160514]\n",
      " [ 0.12527359  1.32822117]\n",
      " [ 0.02152594  1.36751231]\n",
      " [ 0.19426611  1.17028412]\n",
      " [ 0.19496861  1.13317956]\n",
      " [ 0.17165903  1.14266088]\n",
      " [ 0.16097894  1.21463803]\n",
      " [ 0.12429656  1.32127171]\n",
      " [ 0.1133664   1.32141982]\n",
      " [ 0.15415816  1.14120723]\n",
      " [ 0.16217813  1.13362389]\n",
      " [ 0.14933349  1.30547115]\n",
      " [ 0.07716436  1.47891255]\n",
      " [ 0.06527696  1.56491023]\n",
      " [ 0.13837186  1.18701479]\n",
      " [ 0.0885842   1.28847537]\n",
      " [ 0.09370099  1.41983629]\n",
      " [ 0.13837186  1.18701479]\n",
      " [ 0.11042583  1.11599423]\n",
      " [ 0.12939465  1.2804477 ]\n",
      " [ 0.09417431  1.32431584]\n",
      " [ 0.165578    0.95077005]\n",
      " [ 0.09730777  1.16440158]\n",
      " [ 0.16997593  1.21400415]\n",
      " [ 0.18867133  1.25501771]\n",
      " [ 0.14153679  1.145705  ]\n",
      " [ 0.12064772  1.35291062]\n",
      " [ 0.11771884  1.17329047]\n",
      " [ 0.11263943  1.3862994 ]\n",
      " [ 0.11700356  1.26397548]\n",
      " [ 0.82326085  0.61954425]\n",
      " [ 0.78729486  0.55610704]\n",
      " [ 0.87111534  0.5175979 ]\n",
      " [ 0.73017571  0.33528743]\n",
      " [ 0.83248111  0.45156088]\n",
      " [ 0.78774839  0.36778755]\n",
      " [ 0.82203128  0.50256803]\n",
      " [ 0.56909267  0.46748793]\n",
      " [ 0.81182699  0.51722245]\n",
      " [ 0.6898456   0.39417413]\n",
      " [ 0.63176811  0.33858999]\n",
      " [ 0.74064065  0.49765337]\n",
      " [ 0.72070539  0.43144176]\n",
      " [ 0.82978951  0.39735022]\n",
      " [ 0.62232569  0.59453696]\n",
      " [ 0.77296949  0.61853493]\n",
      " [ 0.78872542  0.37473701]\n",
      " [ 0.70247755  0.49486768]\n",
      " [ 0.84996329  0.28082961]\n",
      " [ 0.68547336  0.44950445]\n",
      " [ 0.85579179  0.36269368]\n",
      " [ 0.70614618  0.55602781]\n",
      " [ 0.90170391  0.27265383]\n",
      " [ 0.82079251  0.3979841 ]\n",
      " [ 0.75643754  0.55703714]\n",
      " [ 0.77806759  0.57771092]\n",
      " [ 0.86406429  0.4651371 ]\n",
      " [ 0.90779772  0.41096421]\n",
      " [ 0.8011282   0.41701467]\n",
      " [ 0.60264049  0.60015438]\n",
      " [ 0.67308227  0.43303223]\n",
      " [ 0.64781506  0.46980279]\n",
      " [ 0.68305519  0.5187337 ]\n",
      " [ 0.92695943  0.21007784]\n",
      " [ 0.78580354  0.34149635]\n",
      " [ 0.77611106  0.52561428]\n",
      " [ 0.83321508  0.5330608 ]\n",
      " [ 0.81181998  0.37084296]\n",
      " [ 0.70321262  0.49698171]\n",
      " [ 0.71705765  0.38369478]\n",
      " [ 0.77267737  0.3229101 ]\n",
      " [ 0.80574128  0.44590568]\n",
      " [ 0.70710341  0.47017824]\n",
      " [ 0.57711264  0.45990458]\n",
      " [ 0.74037891  0.4000189 ]\n",
      " [ 0.71438474  0.50166904]\n",
      " [ 0.72872178  0.46504658]\n",
      " [ 0.75351566  0.52379647]\n",
      " [ 0.52076595  0.58556884]\n",
      " [ 0.71779162  0.46519469]\n",
      " [ 1.11939291  0.07422583]\n",
      " [ 0.9473716   0.13958083]\n",
      " [ 1.10215626  0.20860437]\n",
      " [ 1.02122617  0.16174971]\n",
      " [ 1.08367945  0.12081537]\n",
      " [ 1.23188529  0.12124355]\n",
      " [ 0.82685004  0.11253874]\n",
      " [ 1.15825989  0.15749056]\n",
      " [ 1.08828443  0.08271277]\n",
      " [ 1.13035345  0.27206808]\n",
      " [ 0.93258102  0.36452277]\n",
      " [ 0.99111561  0.19059927]\n",
      " [ 1.02781668  0.25615051]\n",
      " [ 0.94931755  0.08648615]\n",
      " [ 0.97970264  0.10169062]\n",
      " [ 0.98943251  0.26194253]\n",
      " [ 1.00009982  0.24354584]\n",
      " [ 1.20614118  0.29472273]\n",
      " [ 1.30440072  0.        ]\n",
      " [ 0.93448738  0.12583002]\n",
      " [ 1.06669396  0.24763707]\n",
      " [ 0.91069032  0.16682863]\n",
      " [ 1.25617547  0.07752353]\n",
      " [ 0.91191989  0.28380485]\n",
      " [ 1.04165703  0.26343763]\n",
      " [ 1.08465428  0.28653661]\n",
      " [ 0.88641073  0.31573998]\n",
      " [ 0.88932092  0.32317521]\n",
      " [ 1.05258018  0.11691003]\n",
      " [ 1.04723793  0.31167038]\n",
      " [ 1.13907949  0.18619201]\n",
      " [ 1.14103945  0.42585631]\n",
      " [ 1.0603582   0.10449126]\n",
      " [ 0.9170052   0.29656129]\n",
      " [ 1.00686933  0.10557313]\n",
      " [ 1.16145629  0.23478525]\n",
      " [ 1.0350991   0.20825542]\n",
      " [ 0.99207985  0.25112918]\n",
      " [ 0.87037079  0.33090666]\n",
      " [ 1.00522939  0.3213263 ]\n",
      " [ 1.06061994  0.20212573]\n",
      " [ 0.96831784  0.3695441 ]\n",
      " [ 0.9473716   0.13958083]\n",
      " [ 1.10021141  0.18231316]\n",
      " [ 1.07276909  0.21376252]\n",
      " [ 0.98944419  0.28774797]\n",
      " [ 0.95030516  0.19862694]\n",
      " [ 0.96318827  0.29176364]\n",
      " [ 0.99088176  0.25275743]\n",
      " [ 0.92137743  0.24123097]]\n"
     ]
    }
   ],
   "source": [
    "# NMF applied to Wikipedia articles\n",
    "\n",
    "# Import NMF\n",
    "from sklearn.decomposition import NMF\n",
    "\n",
    "# Create an NMF instance: model\n",
    "model = NMF(n_components=2)\n",
    "\n",
    "# Fit the model to articles\n",
    "model.fit(X)\n",
    "\n",
    "# Transform the articles: nmf_features\n",
    "nmf_features = model.transform(X)\n",
    "\n",
    "# Print the NMF features\n",
    "print(nmf_features)"
   ]
  },
  {
   "cell_type": "code",
   "execution_count": null,
   "metadata": {
    "collapsed": true
   },
   "outputs": [],
   "source": [
    "# NMF features of the Wikipedia articles\n",
    "\n",
    "# Import pandas\n",
    "import pandas as pd\n",
    "\n",
    "# Create a pandas DataFrame: df\n",
    "df = pd.DataFrame(nmf_features,index=titles)\n",
    "\n",
    "# Print the row for 'Anne Hathaway'\n",
    "print(df.loc['Anne Hathaway'])\n",
    "\n",
    "# Print the row for 'Denzel Washington'\n",
    "print(df.loc['Denzel Washington'])"
   ]
  },
  {
   "cell_type": "markdown",
   "metadata": {},
   "source": [
    "## NMF Components\n",
    "\n",
    "* For documents:\n",
    "    * NMF components represent topics\n",
    "    * NMF features combine topics into documents\n",
    "* For images, NMF components are part of images\n",
    "\n",
    "### Grayscale images\n",
    "\n",
    "* No color, only shade of gray\n",
    "* Each pixel can be represented can be represented by values between 0 and 1, where 0 is totally black, thereby converting it to 2D numpy array"
   ]
  },
  {
   "cell_type": "code",
   "execution_count": null,
   "metadata": {
    "collapsed": true
   },
   "outputs": [],
   "source": [
    "# NMF learns topics of documents\n",
    "\n",
    "# Import pandas\n",
    "import pandas as pd\n",
    "\n",
    "# Create a DataFrame: components_df\n",
    "components_df = pd.DataFrame(model.components_,columns=words)\n",
    "\n",
    "# Print the shape of the DataFrame\n",
    "print(components_df.shape)\n",
    "\n",
    "# Select row 3: component\n",
    "component = components_df.iloc[3]\n",
    "\n",
    "# Print result of nlargest\n",
    "print(component.nlargest())"
   ]
  },
  {
   "cell_type": "code",
   "execution_count": null,
   "metadata": {
    "collapsed": true
   },
   "outputs": [],
   "source": [
    "# Explore the LED digits dataset\n",
    "\n",
    "# Import pyplot\n",
    "from matplotlib import pyplot as plt\n",
    "\n",
    "# Select the 0th row: digit\n",
    "digit = samples[0,:]\n",
    "\n",
    "# Print digit\n",
    "print(digit)\n",
    "\n",
    "# Reshape digit to a 13x8 array: bitmap\n",
    "bitmap = digit.reshape(13,8)\n",
    "\n",
    "# Print bitmap\n",
    "print(bitmap)\n",
    "\n",
    "# Use plt.imshow to display bitmap\n",
    "plt.imshow(bitmap, cmap='gray', interpolation='nearest')\n",
    "plt.colorbar()\n",
    "plt.show()"
   ]
  },
  {
   "cell_type": "code",
   "execution_count": null,
   "metadata": {
    "collapsed": true
   },
   "outputs": [],
   "source": [
    "# NMF learns the parts of images\n",
    "\n",
    "# Import NMF\n",
    "from sklearn.decomposition import NMF\n",
    "\n",
    "# Create an NMF model: model\n",
    "model = NMF(n_components=7)\n",
    "\n",
    "# Apply fit_transform to samples: features\n",
    "features = model.fit_transform(samples)\n",
    "\n",
    "# Call show_as_image on each component\n",
    "for component in model.components_:\n",
    "    show_as_image(component)\n",
    "\n",
    "# Assign the 0th row of features: digit_features\n",
    "digit_features = features[0]\n",
    "\n",
    "# Print digit_features\n",
    "print(digit_features)"
   ]
  },
  {
   "cell_type": "code",
   "execution_count": null,
   "metadata": {
    "collapsed": true
   },
   "outputs": [],
   "source": [
    "# PCA doesn't learn parts\n",
    "\n",
    "# Import NMF\n",
    "from sklearn.decomposition import NMF\n",
    "\n",
    "# Create an NMF model: model\n",
    "model = NMF(n_components=7)\n",
    "\n",
    "# Apply fit_transform to samples: features\n",
    "features = model.fit_transform(samples)\n",
    "\n",
    "# Call show_as_image on each component\n",
    "for component in model.components_:\n",
    "    show_as_image(component)\n",
    "\n",
    "# Assign the 0th row of features: digit_features\n",
    "digit_features = features[0]\n",
    "\n",
    "# Print digit_features\n",
    "print(digit_features)"
   ]
  },
  {
   "cell_type": "markdown",
   "metadata": {},
   "source": [
    "____\n",
    "\n",
    "## Build recommender systems using NMF\n",
    "\n",
    "* Recommender systems for newspaper articles can be built using NMF\n",
    "    * NMF feature values describe topics; similar topics will have similar feature values\n",
    "    * But they may not be exactly the same!\n",
    "    * Fortunately, in NMF, all these values lie on the same hyperplane in the scatterplot passing through the origin\n",
    "    * Can be compared using cosine similarity, higher values reflects similarity\n",
    "    "
   ]
  },
  {
   "cell_type": "code",
   "execution_count": null,
   "metadata": {
    "collapsed": true
   },
   "outputs": [],
   "source": [
    "# Which articles are similar to 'Cristiano Ronaldo'?\n",
    "\n",
    "# Perform the necessary imports\n",
    "import pandas as pd\n",
    "from sklearn.preprocessing import normalize\n",
    "\n",
    "# Normalize the NMF features: norm_features\n",
    "norm_features = normalize(nmf_features)\n",
    "\n",
    "# Create a DataFrame: df\n",
    "df = pd.DataFrame(norm_features,index=titles)\n",
    "\n",
    "# Select the row corresponding to 'Cristiano Ronaldo': article\n",
    "article = df.loc['Cristiano Ronaldo']\n",
    "\n",
    "# Compute the dot products: similarities\n",
    "similarities = df.dot(article)\n",
    "\n",
    "# Display those with the largest cosine similarity\n",
    "print(similarities.nlargest())"
   ]
  },
  {
   "cell_type": "code",
   "execution_count": null,
   "metadata": {
    "collapsed": true
   },
   "outputs": [],
   "source": [
    "# Recommend musical artists\n",
    "\n",
    "# Perform the necessary imports\n",
    "from sklearn.decomposition import NMF\n",
    "from sklearn.preprocessing import MaxAbsScaler, Normalizer\n",
    "from sklearn.pipeline import make_pipeline\n",
    "\n",
    "# Create a MaxAbsScaler: scaler\n",
    "scaler = MaxAbsScaler()\n",
    "\n",
    "# Create an NMF model: nmf\n",
    "nmf = NMF(n_components=20)\n",
    "\n",
    "# Create a Normalizer: normalizer\n",
    "normalizer = Normalizer()\n",
    "\n",
    "# Create a pipeline: pipeline\n",
    "pipeline = make_pipeline(scaler,nmf,normalizer)\n",
    "\n",
    "# Apply fit_transform to artists: norm_features\n",
    "norm_features = pipeline.fit_transform(artists)\n",
    "\n",
    "# Import pandas\n",
    "import pandas as pd\n",
    "\n",
    "# Create a DataFrame: df\n",
    "df = pd.DataFrame(norm_features, index=artist_names)\n",
    "\n",
    "# Select row of 'Bruce Springsteen': artist\n",
    "artist = df.loc['Bruce Springsteen']\n",
    "\n",
    "# Compute cosine similarities: similarities\n",
    "similarities = df.dot(artist)\n",
    "\n",
    "# Display those with highest cosine similarity\n",
    "print(similarities.nlargest())"
   ]
  },
  {
   "cell_type": "markdown",
   "metadata": {},
   "source": [
    "____\n",
    "____"
   ]
  }
 ],
 "metadata": {
  "kernelspec": {
   "display_name": "Python 3",
   "language": "python",
   "name": "python3"
  },
  "language_info": {
   "codemirror_mode": {
    "name": "ipython",
    "version": 3
   },
   "file_extension": ".py",
   "mimetype": "text/x-python",
   "name": "python",
   "nbconvert_exporter": "python",
   "pygments_lexer": "ipython3",
   "version": "3.6.1"
  }
 },
 "nbformat": 4,
 "nbformat_minor": 2
}
